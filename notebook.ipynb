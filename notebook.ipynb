{
 "cells": [
  {
   "cell_type": "code",
   "execution_count": 1,
   "id": "4988bdc4",
   "metadata": {},
   "outputs": [
    {
     "name": "stderr",
     "output_type": "stream",
     "text": [
      "/Users/raghav.dave/Documents/raghav-dev-projects/audiotranscriber/.venv/lib/python3.12/site-packages/tqdm/auto.py:21: TqdmWarning: IProgress not found. Please update jupyter and ipywidgets. See https://ipywidgets.readthedocs.io/en/stable/user_install.html\n",
      "  from .autonotebook import tqdm as notebook_tqdm\n"
     ]
    }
   ],
   "source": [
    "from huggingface_hub import snapshot_download, hf_hub_download\n",
    "import os"
   ]
  },
  {
   "cell_type": "code",
   "execution_count": 5,
   "id": "1c222433",
   "metadata": {},
   "outputs": [
    {
     "name": "stderr",
     "output_type": "stream",
     "text": [
      "Fetching 4 files: 100%|██████████| 4/4 [00:00<00:00, 15.43it/s]"
     ]
    },
    {
     "name": "stdout",
     "output_type": "stream",
     "text": [
      "Custom model repo downloaded to: /Users/raghav.dave/Documents/raghav-dev-projects/audiotranscriber/models\n"
     ]
    },
    {
     "name": "stderr",
     "output_type": "stream",
     "text": [
      "\n"
     ]
    }
   ],
   "source": [
    "repo_id_custom = \"pyannote/wespeaker-voxceleb-resnet34-LM\"\n",
    "local_download_path = snapshot_download(repo_id=repo_id_custom, local_dir='models')\n",
    "print(f\"Custom model repo downloaded to: {local_download_path}\")"
   ]
  },
  {
   "cell_type": "code",
   "execution_count": 8,
   "id": "af51a39a",
   "metadata": {},
   "outputs": [],
   "source": [
    "from pathlib import Path\n",
    "from pyannote.audio import Pipeline\n",
    "import whisper\n",
    "from utils import words_per_segment\n",
    "\n",
    "def load_pipeline_from_pretrained(path_to_config: str | Path) -> Pipeline:\n",
    "    path_to_config = Path(path_to_config)\n",
    "\n",
    "    print(f\"Loading pyannote pipeline from {path_to_config}...\")\n",
    "    # the paths in the config are relative to the current working directory\n",
    "    # so we need to change the working directory to the model path\n",
    "    # and then change it back\n",
    "\n",
    "    cwd = Path.cwd().resolve()  # store current working directory\n",
    "\n",
    "    # first .parent is the folder of the config, second .parent is the folder containing the 'models' folder\n",
    "    cd_to = path_to_config.parent.parent.resolve()\n",
    "\n",
    "    print(f\"Changing working directory to {cd_to}\")\n",
    "    os.chdir(cd_to)\n",
    "\n",
    "    pipeline = Pipeline.from_pretrained(path_to_config)\n",
    "\n",
    "    print(f\"Changing working directory back to {cwd}\")\n",
    "    os.chdir(cwd)\n",
    "\n",
    "    return pipeline"
   ]
  },
  {
   "cell_type": "code",
   "execution_count": null,
   "id": "cc39012d",
   "metadata": {},
   "outputs": [
    {
     "name": "stdout",
     "output_type": "stream",
     "text": [
      "Loading pyannote pipeline from models/pyannote_diarization_config.yaml...\n",
      "Changing working directory to /Users/raghav.dave/Documents/raghav-dev-projects/audiotranscriber\n",
      "Changing working directory back to /Users/raghav.dave/Documents/raghav-dev-projects/audiotranscriber\n"
     ]
    },
    {
     "name": "stderr",
     "output_type": "stream",
     "text": [
      "/Users/raghav.dave/Documents/raghav-dev-projects/audiotranscriber/.venv/lib/python3.12/site-packages/pyannote/audio/models/blocks/pooling.py:104: UserWarning: std(): degrees of freedom is <= 0. Correction should be strictly less than the reduction factor (input numel divided by output numel). (Triggered internally at /Users/runner/work/pytorch/pytorch/pytorch/aten/src/ATen/native/ReduceOps.cpp:1831.)\n",
      "  std = sequences.std(dim=-1, correction=1)\n",
      "/Users/raghav.dave/Documents/raghav-dev-projects/audiotranscriber/.venv/lib/python3.12/site-packages/whisper/transcribe.py:126: UserWarning: FP16 is not supported on CPU; using FP32 instead\n",
      "  warnings.warn(\"FP16 is not supported on CPU; using FP32 instead\")\n"
     ]
    },
    {
     "ename": "KeyError",
     "evalue": "'words'",
     "output_type": "error",
     "traceback": [
      "\u001b[31m---------------------------------------------------------------------------\u001b[39m",
      "\u001b[31mKeyError\u001b[39m                                  Traceback (most recent call last)",
      "\u001b[36mCell\u001b[39m\u001b[36m \u001b[39m\u001b[32mIn[11]\u001b[39m\u001b[32m, line 8\u001b[39m\n\u001b[32m      5\u001b[39m diarization_result = pipeline(\u001b[33m\"\u001b[39m\u001b[33maudio_chunks/Little ships recreate historic Dunkirk evacuation.wav\u001b[39m\u001b[33m\"\u001b[39m)\n\u001b[32m      6\u001b[39m transcription_result = model.transcribe(\u001b[33m\"\u001b[39m\u001b[33maudio_chunks/Little ships recreate historic Dunkirk evacuation.wav\u001b[39m\u001b[33m\"\u001b[39m, word_timestamps=\u001b[38;5;28;01mFalse\u001b[39;00m)\n\u001b[32m----> \u001b[39m\u001b[32m8\u001b[39m final_result = \u001b[43mwords_per_segment\u001b[49m\u001b[43m(\u001b[49m\u001b[43mtranscription_result\u001b[49m\u001b[43m,\u001b[49m\u001b[43m \u001b[49m\u001b[43mdiarization_result\u001b[49m\u001b[43m)\u001b[49m\n\u001b[32m     10\u001b[39m \u001b[38;5;28;01mfor\u001b[39;00m _, segment \u001b[38;5;129;01min\u001b[39;00m final_result.items():\n\u001b[32m     11\u001b[39m     \u001b[38;5;28mprint\u001b[39m(\u001b[33mf\u001b[39m\u001b[33m'\u001b[39m\u001b[38;5;132;01m{\u001b[39;00msegment[\u001b[33m\"\u001b[39m\u001b[33mstart\u001b[39m\u001b[33m\"\u001b[39m]\u001b[38;5;132;01m:\u001b[39;00m\u001b[33m.3f\u001b[39m\u001b[38;5;132;01m}\u001b[39;00m\u001b[38;5;130;01m\\t\u001b[39;00m\u001b[38;5;132;01m{\u001b[39;00msegment[\u001b[33m\"\u001b[39m\u001b[33mend\u001b[39m\u001b[33m\"\u001b[39m]\u001b[38;5;132;01m:\u001b[39;00m\u001b[33m.3f\u001b[39m\u001b[38;5;132;01m}\u001b[39;00m\u001b[38;5;130;01m\\t\u001b[39;00m\u001b[33m \u001b[39m\u001b[38;5;132;01m{\u001b[39;00msegment[\u001b[33m\"\u001b[39m\u001b[33mspeaker\u001b[39m\u001b[33m\"\u001b[39m]\u001b[38;5;132;01m}\u001b[39;00m\u001b[38;5;130;01m\\t\u001b[39;00m\u001b[38;5;132;01m{\u001b[39;00msegment[\u001b[33m\"\u001b[39m\u001b[33mtext\u001b[39m\u001b[33m\"\u001b[39m]\u001b[38;5;132;01m}\u001b[39;00m\u001b[33m'\u001b[39m)\n",
      "\u001b[36mFile \u001b[39m\u001b[32m~/Documents/raghav-dev-projects/audiotranscriber/utils.py:50\u001b[39m, in \u001b[36mwords_per_segment\u001b[39m\u001b[34m(res_transcription, res_diarization, add_buffer, fixed_margin, gap_scale_factor)\u001b[39m\n\u001b[32m     47\u001b[39m res_trans_dia = {}\n\u001b[32m     48\u001b[39m segments = \u001b[38;5;28mlist\u001b[39m(res_diarization.itersegments())\n\u001b[32m---> \u001b[39m\u001b[32m50\u001b[39m words = \u001b[43mget_words_timestamps\u001b[49m\u001b[43m(\u001b[49m\u001b[43mres_transcription\u001b[49m\u001b[43m)\u001b[49m\n\u001b[32m     52\u001b[39m \u001b[38;5;28;01mfor\u001b[39;00m idx, (segment, _, speaker) \u001b[38;5;129;01min\u001b[39;00m \u001b[38;5;28menumerate\u001b[39m(\n\u001b[32m     53\u001b[39m     res_diarization.itertracks(yield_label=\u001b[38;5;28;01mTrue\u001b[39;00m)\n\u001b[32m     54\u001b[39m ):\n\u001b[32m     55\u001b[39m     buffer_time = calculate_dynamic_buffer(idx, segments) \u001b[38;5;28;01mif\u001b[39;00m add_buffer \u001b[38;5;28;01melse\u001b[39;00m \u001b[32m0\u001b[39m\n",
      "\u001b[36mFile \u001b[39m\u001b[32m~/Documents/raghav-dev-projects/audiotranscriber/utils.py:9\u001b[39m, in \u001b[36mget_words_timestamps\u001b[39m\u001b[34m(result_transcription)\u001b[39m\n\u001b[32m      7\u001b[39m word_counter = \u001b[32m0\u001b[39m\n\u001b[32m      8\u001b[39m \u001b[38;5;28;01mfor\u001b[39;00m segment \u001b[38;5;129;01min\u001b[39;00m result_transcription[\u001b[33m\"\u001b[39m\u001b[33msegments\u001b[39m\u001b[33m\"\u001b[39m]:\n\u001b[32m----> \u001b[39m\u001b[32m9\u001b[39m     \u001b[38;5;28;01mfor\u001b[39;00m word \u001b[38;5;129;01min\u001b[39;00m \u001b[43msegment\u001b[49m\u001b[43m[\u001b[49m\u001b[33;43m\"\u001b[39;49m\u001b[33;43mwords\u001b[39;49m\u001b[33;43m\"\u001b[39;49m\u001b[43m]\u001b[49m:\n\u001b[32m     10\u001b[39m         words[\u001b[33mf\u001b[39m\u001b[33m\"\u001b[39m\u001b[33mword_\u001b[39m\u001b[38;5;132;01m{\u001b[39;00mword_counter\u001b[38;5;132;01m}\u001b[39;00m\u001b[33m\"\u001b[39m] = {\n\u001b[32m     11\u001b[39m             \u001b[33m\"\u001b[39m\u001b[33mtext\u001b[39m\u001b[33m\"\u001b[39m: word[\u001b[33m\"\u001b[39m\u001b[33mword\u001b[39m\u001b[33m\"\u001b[39m],\n\u001b[32m     12\u001b[39m             \u001b[33m\"\u001b[39m\u001b[33mstart\u001b[39m\u001b[33m\"\u001b[39m: word[\u001b[33m\"\u001b[39m\u001b[33mstart\u001b[39m\u001b[33m\"\u001b[39m],\n\u001b[32m     13\u001b[39m             \u001b[33m\"\u001b[39m\u001b[33mend\u001b[39m\u001b[33m\"\u001b[39m: word[\u001b[33m\"\u001b[39m\u001b[33mend\u001b[39m\u001b[33m\"\u001b[39m],\n\u001b[32m     14\u001b[39m         }\n\u001b[32m     15\u001b[39m         word_counter += \u001b[32m1\u001b[39m\n",
      "\u001b[31mKeyError\u001b[39m: 'words'"
     ]
    }
   ],
   "source": [
    "PATH_TO_CONFIG = \"models/pyannote_diarization_config.yaml\"\n",
    "pipeline = load_pipeline_from_pretrained(PATH_TO_CONFIG)\n",
    "\n",
    "model = whisper.load_model(\"base\")\n",
    "diarization_result = pipeline(\"audio_chunks/Little ships recreate historic Dunkirk evacuation.wav\")\n",
    "transcription_result = model.transcribe(\"audio_chunks/Little ships recreate historic Dunkirk evacuation.wav\", word_timestamps=True)\n",
    "\n",
    "final_result = words_per_segment(transcription_result, diarization_result)\n",
    "\n",
    "for _, segment in final_result.items():\n",
    "    print(f'{segment[\"start\"]:.3f}\\t{segment[\"end\"]:.3f}\\t {segment[\"speaker\"]}\\t{segment[\"text\"]}')\n"
   ]
  },
  {
   "cell_type": "code",
   "execution_count": null,
   "id": "e2065ec2",
   "metadata": {},
   "outputs": [],
   "source": []
  }
 ],
 "metadata": {
  "kernelspec": {
   "display_name": ".venv",
   "language": "python",
   "name": "python3"
  },
  "language_info": {
   "codemirror_mode": {
    "name": "ipython",
    "version": 3
   },
   "file_extension": ".py",
   "mimetype": "text/x-python",
   "name": "python",
   "nbconvert_exporter": "python",
   "pygments_lexer": "ipython3",
   "version": "3.12.5"
  }
 },
 "nbformat": 4,
 "nbformat_minor": 5
}
